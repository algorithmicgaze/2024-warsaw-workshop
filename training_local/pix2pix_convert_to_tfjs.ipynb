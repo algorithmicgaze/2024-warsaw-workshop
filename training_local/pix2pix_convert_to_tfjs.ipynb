{
 "cells": [
  {
   "cell_type": "markdown",
   "metadata": {
    "id": "DVTlaIXD-NT5"
   },
   "source": [
    "# Converting TensorFlow models to TensorFlow.js\n",
    "To use the model in Figment we need to convert it to [TensorFlow.js](https://www.tensorflow.org/js). This script does that.\n",
    "\n",
    "This is step 2 in the process. Make sure you've trained a model first using `pix2pix_train_local.ipynb`.\n",
    "\n",
    "Make sure the previous notebook has stopped running. If the other tab is open, go to the File menu and select \"Close and Halt\". Otherwise, in the [overview page](http://127.0.0.1:8888/tree/training_local), click the checkbox next to the `pix2pix_train_local.ipynb` and click \"shutdown\"."
   ]
  },
  {
   "cell_type": "code",
   "execution_count": null,
   "metadata": {
    "id": "zDb5UN557Jbd"
   },
   "outputs": [],
   "source": [
    "# Install the Python tensorflowjs library. This can take a while!\n",
    "%pip install -qq --use-feature=2020-resolver tensorflowjs"
   ]
  },
  {
   "cell_type": "code",
   "execution_count": null,
   "metadata": {
    "cellView": "form",
    "id": "fbAS0BRBfWza"
   },
   "outputs": [],
   "source": [
    "#@title Some helper functions for creating/checking directories.\n",
    "\n",
    "import os\n",
    "\n",
    "def directory_should_exist(*args):\n",
    "    dir = os.path.join(*args)\n",
    "    if not os.path.isdir(dir):\n",
    "        raise Exception(\"Path '{}' is not a directory.\".format(dir))\n",
    "    return dir\n",
    "\n",
    "def ensure_directory(*args):\n",
    "    dir = os.path.join(*args)\n",
    "    try:\n",
    "        os.makedirs(dir)\n",
    "    except OSError as err:\n",
    "        if err.errno != 17:\n",
    "            raise err\n",
    "    return dir"
   ]
  },
  {
   "cell_type": "markdown",
   "metadata": {
    "id": "vUf9cxO8gdJw"
   },
   "source": [
    "## Optional method: Use a pretrained generator model"
   ]
  },
  {
   "cell_type": "code",
   "execution_count": null,
   "metadata": {
    "id": "Zv9IsPG1-Cbg"
   },
   "outputs": [],
   "source": [
    "# Optional: don't have a model yet? Use a petrained generator.\n",
    "ensure_directory(\"output\")\n",
    "!curl -o output/woman_dancing_generator.zip https://enigmeta.s3.amazonaws.com/2022-kikk-workshop/woman_dancing_generator.zip\n",
    "!unzip  *.zip"
   ]
  },
  {
   "cell_type": "markdown",
   "metadata": {
    "id": "fttasNZNjmu8"
   },
   "source": [
    "## Acquired a generator.zip? Let's continue!"
   ]
  },
  {
   "cell_type": "code",
   "execution_count": null,
   "metadata": {
    "id": "s67ccaRZ7gzQ"
   },
   "outputs": [],
   "source": [
    "!rm -rf generator\n",
    "!rm -rf output\n",
    "!unzip  *.zip"
   ]
  },
  {
   "cell_type": "code",
   "execution_count": null,
   "metadata": {
    "id": "NMHPx2hV7jtb"
   },
   "outputs": [],
   "source": [
    "import os\n",
    "output_dir = 'output'\n",
    "generator_dir = 'output/generator'"
   ]
  },
  {
   "cell_type": "code",
   "execution_count": null,
   "metadata": {
    "id": "rQxrcfnP7QVT"
   },
   "outputs": [],
   "source": [
    "import subprocess\n",
    "import shutil\n",
    "tfjs_dir = os.path.join(output_dir, 'tfjs')\n",
    "!tensorflowjs_converter $generator_dir $tfjs_dir\n",
    "#subprocess.run(['tensorflowjs_converter', generator_dir, tfjs_dir])\n",
    "shutil.make_archive(tfjs_dir, 'zip', output_dir, 'tfjs')"
   ]
  }
 ],
 "metadata": {
  "colab": {
   "collapsed_sections": [],
   "provenance": []
  },
  "kernelspec": {
   "display_name": "Python 3",
   "language": "python",
   "name": "python3"
  },
  "language_info": {
   "codemirror_mode": {
    "name": "ipython",
    "version": 3
   },
   "file_extension": ".py",
   "mimetype": "text/x-python",
   "name": "python",
   "nbconvert_exporter": "python",
   "pygments_lexer": "ipython3",
   "version": "3.8.10"
  }
 },
 "nbformat": 4,
 "nbformat_minor": 1
}
